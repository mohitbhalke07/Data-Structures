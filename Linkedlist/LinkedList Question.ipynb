{
 "cells": [
  {
   "cell_type": "markdown",
   "id": "d2769973-60dc-4337-b65a-9f53b876d2c1",
   "metadata": {},
   "source": [
    "# Reverse a Linked List"
   ]
  },
  {
   "cell_type": "code",
   "execution_count": 15,
   "id": "d45e7664-7112-4f17-9e9b-364f5b76f641",
   "metadata": {},
   "outputs": [],
   "source": [
    "class ListNode:\n",
    "    def __init__(self, val=0, next=None):\n",
    "        self.val = val\n",
    "        self.next = next\n",
    "\n",
    "def reverse_list(head):\n",
    "    prev = None\n",
    "    curr = head\n",
    "\n",
    "    while curr:\n",
    "        next_node = curr.next  # Save next node\n",
    "        curr.next = prev       # Reverse the link\n",
    "        prev = curr            # Move prev forward\n",
    "        curr = next_node       # Move curr forward\n",
    "\n",
    "    return prev  # New head\n",
    "\n",
    "def print_list(head):\n",
    "    current = head\n",
    "    while current:\n",
    "        print(current.val, end=\" → \")\n",
    "        current = current.next\n",
    "    print(\"None\")"
   ]
  },
  {
   "cell_type": "code",
   "execution_count": 12,
   "id": "2e11bfa9-26ba-4095-a62b-24d343fdb8b1",
   "metadata": {},
   "outputs": [],
   "source": [
    "# Creating nodes\n",
    "node1 = ListNode(1)\n",
    "node2 = ListNode(2)\n",
    "node3 = ListNode(3)\n",
    "node4 = ListNode(4)\n",
    "node5 = ListNode(5)\n",
    "\n",
    "# Linking nodes\n",
    "node1.next = node2\n",
    "node2.next = node3\n",
    "node3.next = node4\n",
    "node4.next = node5\n",
    "\n",
    "head = node1  # This is the head of the linked list"
   ]
  },
  {
   "cell_type": "code",
   "execution_count": 13,
   "id": "018a325d-66ec-43fe-9dea-b6e1fb7de3c8",
   "metadata": {},
   "outputs": [],
   "source": [
    "reversed_head = reverse_list(head)"
   ]
  },
  {
   "cell_type": "code",
   "execution_count": 14,
   "id": "cf9ca1db-83c2-464d-8b7a-d7bb8cc3dee5",
   "metadata": {},
   "outputs": [
    {
     "name": "stdout",
     "output_type": "stream",
     "text": [
      "5 → 4 → 3 → 2 → 1 → None\n"
     ]
    }
   ],
   "source": [
    "print_list(reversed_head)"
   ]
  },
  {
   "cell_type": "markdown",
   "id": "cc89e819-608c-4150-a2da-975a71a905b4",
   "metadata": {},
   "source": [
    "# Detect Cycle in a Linked List"
   ]
  },
  {
   "cell_type": "code",
   "execution_count": 20,
   "id": "37e4bc55-ab19-41ab-8c27-d9e046ebd75d",
   "metadata": {},
   "outputs": [],
   "source": [
    "class Node():\n",
    "    def __init__(self, value):\n",
    "        self.data = value\n",
    "        self.next = 0\n",
    "\n",
    "def has_cycle(head):\n",
    "    slow = fast = head\n",
    "\n",
    "    while fast and fast.next:\n",
    "        slow = slow.next\n",
    "        fast = fast.next.next\n",
    "\n",
    "        if slow == fast:\n",
    "            return True\n",
    "\n",
    "    return False"
   ]
  },
  {
   "cell_type": "code",
   "execution_count": 23,
   "id": "90d3f173-b028-4985-b878-8d2494ae7365",
   "metadata": {},
   "outputs": [
    {
     "name": "stdout",
     "output_type": "stream",
     "text": [
      "False\n"
     ]
    }
   ],
   "source": [
    "# Creating nodes\n",
    "head = Node(1)\n",
    "node2 = Node(2)\n",
    "node3 = Node(3)\n",
    "node4 = Node(4)\n",
    "\n",
    "head.next = node2\n",
    "node2.next = node3\n",
    "node3.next = node4\n",
    "\n",
    "print(has_cycle(head))"
   ]
  },
  {
   "cell_type": "code",
   "execution_count": 24,
   "id": "971d2c44-03f9-49d7-a41c-43884b40d82b",
   "metadata": {},
   "outputs": [
    {
     "name": "stdout",
     "output_type": "stream",
     "text": [
      "True\n"
     ]
    }
   ],
   "source": [
    "# Creating nodes\n",
    "head = Node(1)\n",
    "node2 = Node(2)\n",
    "node3 = Node(3)\n",
    "node4 = Node(4)\n",
    "\n",
    "head.next = node2\n",
    "node2.next = node3\n",
    "node3.next = node2\n",
    "\n",
    "print(has_cycle(head))"
   ]
  },
  {
   "cell_type": "markdown",
   "id": "059c7361-2e3c-4b01-8921-1d6a848dbfcd",
   "metadata": {},
   "source": [
    "# Merge Two Sorted Linked Lists"
   ]
  },
  {
   "cell_type": "code",
   "execution_count": 41,
   "id": "29aa4148-398c-4bfe-aa5d-6b6afc5eea65",
   "metadata": {},
   "outputs": [
    {
     "name": "stdout",
     "output_type": "stream",
     "text": [
      "1 -> 3 -> 3 -> 5 -> None\n",
      "2 -> 4 -> 6 -> None\n"
     ]
    }
   ],
   "source": [
    "class ListNode:\n",
    "    def __init__(self, val=0, next=None):\n",
    "        self.val = val\n",
    "        self.next = next\n",
    "        \n",
    "def build_linked_list(values):\n",
    "    dummy = ListNode()\n",
    "    curr = dummy\n",
    "    for val in values:\n",
    "        curr.next = ListNode(val)\n",
    "        curr = curr.next\n",
    "    return dummy.next\n",
    "\n",
    "def print_list(head):\n",
    "    while head:\n",
    "        print(head.val, end=\" -> \")\n",
    "        head = head.next\n",
    "    print(\"None\")\n",
    "\n",
    "l1 = build_linked_list([1, 3, 3, 5])\n",
    "l2 = build_linked_list([2, 4, 6])\n",
    "print_list(l1)\n",
    "print_list(l2)"
   ]
  },
  {
   "cell_type": "code",
   "execution_count": 42,
   "id": "e423b33f-af4d-40bf-bc64-4e82e9335d4d",
   "metadata": {},
   "outputs": [],
   "source": [
    "def merge_two_lists(l1, l2):\n",
    "    # Base case: if one list is empty, return the other\n",
    "    if not l1:\n",
    "        return l2\n",
    "    if not l2:\n",
    "        return l1\n",
    "\n",
    "    # Recursive case\n",
    "    if l1.val < l2.val:\n",
    "        l1.next = merge_two_lists(l1.next, l2)\n",
    "        return l1\n",
    "    else:\n",
    "        l2.next = merge_two_lists(l1, l2.next)\n",
    "        return l2\n"
   ]
  },
  {
   "cell_type": "code",
   "execution_count": 43,
   "id": "86962178-9e5f-4ab6-825f-562b3f73884a",
   "metadata": {},
   "outputs": [
    {
     "name": "stdout",
     "output_type": "stream",
     "text": [
      "1 -> 2 -> 3 -> 3 -> 4 -> 5 -> 6 -> None\n"
     ]
    }
   ],
   "source": [
    "merged = merge_two_lists(l1, l2)\n",
    "print_list(merged)"
   ]
  },
  {
   "cell_type": "markdown",
   "id": "27587b1a-098d-4dc2-9895-cfd538c03b8a",
   "metadata": {},
   "source": [
    "# Palindrom"
   ]
  },
  {
   "cell_type": "code",
   "execution_count": 46,
   "id": "13118980-b747-4948-b663-a370a582b981",
   "metadata": {},
   "outputs": [],
   "source": [
    "def is_palindrome(head):\n",
    "    val = []\n",
    "    while head:\n",
    "        val.append(head.val)\n",
    "        head = head.next\n",
    "    return val == val[::-1]"
   ]
  },
  {
   "cell_type": "code",
   "execution_count": null,
   "id": "adffaae8-5406-40a9-9732-0f9e09526ab5",
   "metadata": {},
   "outputs": [],
   "source": []
  }
 ],
 "metadata": {
  "kernelspec": {
   "display_name": "Python 3 (ipykernel)",
   "language": "python",
   "name": "python3"
  },
  "language_info": {
   "codemirror_mode": {
    "name": "ipython",
    "version": 3
   },
   "file_extension": ".py",
   "mimetype": "text/x-python",
   "name": "python",
   "nbconvert_exporter": "python",
   "pygments_lexer": "ipython3",
   "version": "3.12.3"
  }
 },
 "nbformat": 4,
 "nbformat_minor": 5
}
