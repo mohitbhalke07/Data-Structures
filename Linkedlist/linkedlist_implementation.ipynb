{
 "cells": [
  {
   "cell_type": "code",
   "execution_count": 1,
   "id": "8027e1d0-a12a-469b-85e4-75b5a955fb99",
   "metadata": {},
   "outputs": [],
   "source": [
    "class Node:\n",
    "    def __init__(self, value):\n",
    "        self.data = value\n",
    "        self.next = None"
   ]
  },
  {
   "cell_type": "code",
   "execution_count": 2,
   "id": "d4e8cdf4-8d5c-4503-a3a1-0d46f532f9b9",
   "metadata": {},
   "outputs": [],
   "source": [
    "class LinkedList:\n",
    "    def __init__(self):\n",
    "        self.head = None\n",
    "        self.n = 0\n",
    "\n",
    "    def __len__(self):\n",
    "        return self.n\n",
    "\n",
    "    def __str__(self):\n",
    "        result = \"\"\n",
    "        current = self.head\n",
    "        while current:\n",
    "            result += str(current.data) + \"->\"\n",
    "            current = current.next\n",
    "        return result[:-2] if result else \"Empty List\"\n",
    "\n",
    "    def __getitem__(self, index):\n",
    "        if index < 0 or index >= self.n:\n",
    "            raise IndexError(\"Index out of range\")\n",
    "        current = self.head\n",
    "        for _ in range(index):\n",
    "            current = current.next\n",
    "        return current.data\n",
    "\n",
    "    def __iter__(self):\n",
    "        current = self.head\n",
    "        while current:\n",
    "            yield current.data\n",
    "            current = current.next\n",
    "\n",
    "    def __contains__(self, item):\n",
    "        return self.search(item) != -1\n",
    "\n",
    "    def insert_head(self, value):\n",
    "        new_node = Node(value)\n",
    "        new_node.next = self.head\n",
    "        self.head = new_node\n",
    "        self.n += 1\n",
    "\n",
    "    def append(self, value):\n",
    "        new_node = Node(value)\n",
    "        if self.head is None:\n",
    "            self.head = new_node\n",
    "        else:\n",
    "            current = self.head\n",
    "            while current.next:\n",
    "                current = current.next\n",
    "            current.next = new_node\n",
    "        self.n += 1\n",
    "\n",
    "    def append_after(self, after, value):\n",
    "        current = self.head\n",
    "        while current:\n",
    "            if current.data == after:\n",
    "                new_node = Node(value)\n",
    "                new_node.next = current.next\n",
    "                current.next = new_node\n",
    "                self.n += 1\n",
    "                return\n",
    "            current = current.next\n",
    "        raise ValueError(f\"Item {after} not found in list\")\n",
    "\n",
    "    def clear(self):\n",
    "        self.head = None\n",
    "        self.n = 0\n",
    "\n",
    "    def del_head(self):\n",
    "        if self.head is None:\n",
    "            raise IndexError(\"Deleting from an empty list\")\n",
    "        val = self.head.data\n",
    "        self.head = self.head.next\n",
    "        self.n -= 1\n",
    "        return val\n",
    "\n",
    "    def pop(self):\n",
    "        if self.head is None:\n",
    "            raise IndexError(\"Popping from an empty list\")\n",
    "        if self.head.next is None:\n",
    "            return self.del_head()\n",
    "        current = self.head\n",
    "        while current.next.next:\n",
    "            current = current.next\n",
    "        val = current.next.data\n",
    "        current.next = None\n",
    "        self.n -= 1\n",
    "        return val\n",
    "\n",
    "    def remove(self, value):\n",
    "        if self.head is None:\n",
    "            raise ValueError(\"Empty list\")\n",
    "        if self.head.data == value:\n",
    "            return self.del_head()\n",
    "        current = self.head\n",
    "        while current.next:\n",
    "            if current.next.data == value:\n",
    "                val = current.next.data\n",
    "                current.next = current.next.next\n",
    "                self.n -= 1\n",
    "                return val\n",
    "            current = current.next\n",
    "        raise ValueError(f\"{value} not found in list\")\n",
    "\n",
    "    def search(self, item):\n",
    "        current = self.head\n",
    "        index = 0\n",
    "        while current:\n",
    "            if current.data == item:\n",
    "                return index\n",
    "            current = current.next\n",
    "            index += 1\n",
    "        return -1\n"
   ]
  },
  {
   "cell_type": "code",
   "execution_count": 39,
   "id": "f4ac3d15-ca10-4f9a-903e-d8576ac255ba",
   "metadata": {},
   "outputs": [],
   "source": [
    "L = LinkedList()"
   ]
  },
  {
   "cell_type": "code",
   "execution_count": 40,
   "id": "88422ac0-22ee-4ad8-a925-76fa20ff9ef5",
   "metadata": {},
   "outputs": [],
   "source": [
    "L.insert_head(1)\n",
    "L.insert_head(2)"
   ]
  },
  {
   "cell_type": "code",
   "execution_count": 41,
   "id": "862423bf-722d-40e6-b818-084b7db7858c",
   "metadata": {},
   "outputs": [
    {
     "name": "stdout",
     "output_type": "stream",
     "text": [
      "2->1\n"
     ]
    }
   ],
   "source": [
    "print(L)"
   ]
  },
  {
   "cell_type": "code",
   "execution_count": 42,
   "id": "2c879b0d-7a35-42ea-9bd6-54985c74bd15",
   "metadata": {},
   "outputs": [],
   "source": [
    "L.insert_head(3)"
   ]
  },
  {
   "cell_type": "code",
   "execution_count": 43,
   "id": "1a7c6d92-43c7-4509-bad5-1023b339e52a",
   "metadata": {},
   "outputs": [],
   "source": [
    "L.append(0)"
   ]
  },
  {
   "cell_type": "code",
   "execution_count": 44,
   "id": "42ba3361-c2f0-4711-b577-1a662b5d1ea4",
   "metadata": {},
   "outputs": [
    {
     "name": "stdout",
     "output_type": "stream",
     "text": [
      "3->2->1->0\n"
     ]
    }
   ],
   "source": [
    "print(L)"
   ]
  },
  {
   "cell_type": "code",
   "execution_count": 45,
   "id": "ff805798-541b-4ab0-ad6f-614f107b6e35",
   "metadata": {},
   "outputs": [
    {
     "name": "stdout",
     "output_type": "stream",
     "text": [
      "True\n"
     ]
    }
   ],
   "source": [
    "print(3 in L)     "
   ]
  },
  {
   "cell_type": "code",
   "execution_count": 46,
   "id": "70aa532b-6af1-4466-877c-6d75c8f03252",
   "metadata": {},
   "outputs": [
    {
     "name": "stdout",
     "output_type": "stream",
     "text": [
      "2\n"
     ]
    }
   ],
   "source": [
    "print(L[1])           "
   ]
  },
  {
   "cell_type": "code",
   "execution_count": 47,
   "id": "9b59d8cb-489a-4243-9ad0-70acd3095025",
   "metadata": {},
   "outputs": [],
   "source": [
    "L.append(0.5)"
   ]
  },
  {
   "cell_type": "code",
   "execution_count": 48,
   "id": "ccd9f7e1-214e-477c-8b65-9873b2138f85",
   "metadata": {},
   "outputs": [
    {
     "name": "stdout",
     "output_type": "stream",
     "text": [
      "0.5\n"
     ]
    }
   ],
   "source": [
    "print(L[4])           "
   ]
  },
  {
   "cell_type": "code",
   "execution_count": 49,
   "id": "35396684-c1c2-4f14-89b9-84b5638de6ec",
   "metadata": {},
   "outputs": [
    {
     "name": "stdout",
     "output_type": "stream",
     "text": [
      "3->2->1->4->0->0.5\n"
     ]
    }
   ],
   "source": [
    "L.append_after(1, 4)\n",
    "print(L)"
   ]
  },
  {
   "cell_type": "code",
   "execution_count": 50,
   "id": "d8af4eae-fad4-43fe-903f-3def549a7a40",
   "metadata": {},
   "outputs": [
    {
     "name": "stdout",
     "output_type": "stream",
     "text": [
      "3->2->1->0->0.5\n"
     ]
    }
   ],
   "source": [
    "L.remove(4)\n",
    "print(L)"
   ]
  },
  {
   "cell_type": "code",
   "execution_count": 51,
   "id": "fa23d899-c1c5-43d1-b6e0-98dc347b621b",
   "metadata": {},
   "outputs": [
    {
     "name": "stdout",
     "output_type": "stream",
     "text": [
      "3->2->1->0\n"
     ]
    }
   ],
   "source": [
    "L.pop()\n",
    "print(L)"
   ]
  },
  {
   "cell_type": "code",
   "execution_count": 52,
   "id": "26d56ac7-8a9f-4f46-911a-f2abc2cd809d",
   "metadata": {},
   "outputs": [
    {
     "name": "stdout",
     "output_type": "stream",
     "text": [
      "2->1->0\n"
     ]
    }
   ],
   "source": [
    "L.del_head()\n",
    "print(L) "
   ]
  },
  {
   "cell_type": "code",
   "execution_count": null,
   "id": "7ef41c75-38a9-4d38-925c-6f3e95d055c8",
   "metadata": {},
   "outputs": [],
   "source": []
  }
 ],
 "metadata": {
  "kernelspec": {
   "display_name": "Python 3 (ipykernel)",
   "language": "python",
   "name": "python3"
  },
  "language_info": {
   "codemirror_mode": {
    "name": "ipython",
    "version": 3
   },
   "file_extension": ".py",
   "mimetype": "text/x-python",
   "name": "python",
   "nbconvert_exporter": "python",
   "pygments_lexer": "ipython3",
   "version": "3.12.3"
  }
 },
 "nbformat": 4,
 "nbformat_minor": 5
}
