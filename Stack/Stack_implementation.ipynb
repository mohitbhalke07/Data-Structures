{
 "cells": [
  {
   "cell_type": "code",
   "execution_count": 1,
   "id": "ef67b7e8-dfe0-45c8-8699-7ab134d3d9c0",
   "metadata": {},
   "outputs": [],
   "source": [
    "class Stack:         #LIFO\n",
    "    def __init__(self):\n",
    "        self.stack = []\n",
    "\n",
    "    def push(self, value):\n",
    "        self.stack.append(value)\n",
    "\n",
    "    def pop(self):\n",
    "        if self.is_empty():\n",
    "            raise IndexError(\"Pop from empty stack\")\n",
    "        return self.stack.pop()\n",
    "\n",
    "    def peek(self):\n",
    "        if self.is_empty():\n",
    "            raise IndexError(\"Peek from empty stack\")\n",
    "        return self.stack[-1]\n",
    "\n",
    "    def is_empty(self):\n",
    "        return len(self.stack) == 0\n",
    "\n",
    "    def __len__(self):\n",
    "        return len(self.stack)\n",
    "\n",
    "    def __str__(self):\n",
    "        return \"Top -> \" + \" -> \".join(map(str, reversed(self.stack)))"
   ]
  },
  {
   "cell_type": "code",
   "execution_count": 16,
   "id": "d5f741de-835f-4660-b40d-174d278b8fef",
   "metadata": {},
   "outputs": [],
   "source": [
    "S = Stack()\n",
    "S.push(5)\n",
    "S.push(10)\n",
    "S.push(15)"
   ]
  },
  {
   "cell_type": "code",
   "execution_count": 17,
   "id": "c8a442e8-a75e-40a6-94bb-659a4059f344",
   "metadata": {},
   "outputs": [
    {
     "name": "stdout",
     "output_type": "stream",
     "text": [
      "Top -> 15 -> 10 -> 5\n"
     ]
    }
   ],
   "source": [
    "print(S)"
   ]
  },
  {
   "cell_type": "code",
   "execution_count": 18,
   "id": "e13f7645-ccad-4ef2-99d0-3dd5800be6b2",
   "metadata": {},
   "outputs": [
    {
     "name": "stdout",
     "output_type": "stream",
     "text": [
      "15\n"
     ]
    }
   ],
   "source": [
    "print(S.pop())"
   ]
  },
  {
   "cell_type": "code",
   "execution_count": 19,
   "id": "28114f77-e845-42a9-94c0-1c2d07687fd0",
   "metadata": {},
   "outputs": [],
   "source": [
    "S.push(10)\n",
    "S.push(20)"
   ]
  },
  {
   "cell_type": "code",
   "execution_count": 20,
   "id": "3052bf88-9a05-41e4-b7a3-f13eefac69b2",
   "metadata": {},
   "outputs": [
    {
     "name": "stdout",
     "output_type": "stream",
     "text": [
      "Top -> 20 -> 10 -> 10 -> 5\n"
     ]
    }
   ],
   "source": [
    "print(S)"
   ]
  },
  {
   "cell_type": "code",
   "execution_count": 21,
   "id": "4c973570-0ddd-422f-94c4-9040abd9f4bf",
   "metadata": {},
   "outputs": [
    {
     "name": "stdout",
     "output_type": "stream",
     "text": [
      "20\n"
     ]
    }
   ],
   "source": [
    "print(S.peek())"
   ]
  },
  {
   "cell_type": "code",
   "execution_count": 22,
   "id": "b84a74d9-c45f-43eb-91e0-48b68908174c",
   "metadata": {},
   "outputs": [
    {
     "name": "stdout",
     "output_type": "stream",
     "text": [
      "4\n"
     ]
    }
   ],
   "source": [
    "print(len(S))"
   ]
  }
 ],
 "metadata": {
  "kernelspec": {
   "display_name": "Python 3 (ipykernel)",
   "language": "python",
   "name": "python3"
  },
  "language_info": {
   "codemirror_mode": {
    "name": "ipython",
    "version": 3
   },
   "file_extension": ".py",
   "mimetype": "text/x-python",
   "name": "python",
   "nbconvert_exporter": "python",
   "pygments_lexer": "ipython3",
   "version": "3.12.3"
  }
 },
 "nbformat": 4,
 "nbformat_minor": 5
}
