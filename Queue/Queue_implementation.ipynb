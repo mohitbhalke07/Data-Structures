{
 "cells": [
  {
   "cell_type": "code",
   "execution_count": 1,
   "id": "5ce9ce00-fffc-4262-b8b1-c6e787810b7f",
   "metadata": {},
   "outputs": [],
   "source": [
    "class Queue:           #FIFO\n",
    "    def __init__(self):\n",
    "        self.queue = []\n",
    "\n",
    "    def enqueue(self, value):\n",
    "        self.queue.append(value)\n",
    "\n",
    "    def dequeue(self):\n",
    "        if self.is_empty():\n",
    "            raise IndexError(\"Dequeue from empty queue\")\n",
    "        return self.queue.pop(0)\n",
    "\n",
    "    def peek(self):\n",
    "        if self.is_empty():\n",
    "            raise IndexError(\"Peek from empty queue\")\n",
    "        return self.queue[0]\n",
    "\n",
    "    def is_empty(self):\n",
    "        return len(self.queue) == 0\n",
    "\n",
    "    def __len__(self):\n",
    "        return len(self.queue)\n",
    "\n",
    "    def __str__(self):\n",
    "        return \"Front -> \" + \" -> \".join(map(str, self.queue))"
   ]
  },
  {
   "cell_type": "code",
   "execution_count": 22,
   "id": "60b35b4e-b416-42b3-a80c-509451015d2a",
   "metadata": {},
   "outputs": [
    {
     "name": "stdout",
     "output_type": "stream",
     "text": [
      "Front -> 1 -> 2 -> 3\n"
     ]
    }
   ],
   "source": [
    "Q = Queue()\n",
    "Q.enqueue(1)\n",
    "Q.enqueue(2)\n",
    "Q.enqueue(3)\n",
    "print(Q)"
   ]
  },
  {
   "cell_type": "code",
   "execution_count": 23,
   "id": "ba0ba981-b711-485f-895e-7cd68c133814",
   "metadata": {},
   "outputs": [
    {
     "name": "stdout",
     "output_type": "stream",
     "text": [
      "1\n"
     ]
    }
   ],
   "source": [
    "print(Q.dequeue())"
   ]
  },
  {
   "cell_type": "code",
   "execution_count": 24,
   "id": "f6389c0f-f602-458f-aea9-fb9242ba1407",
   "metadata": {},
   "outputs": [
    {
     "name": "stdout",
     "output_type": "stream",
     "text": [
      "Front -> 2 -> 3\n"
     ]
    }
   ],
   "source": [
    "print(Q)"
   ]
  },
  {
   "cell_type": "code",
   "execution_count": 25,
   "id": "7dc82a19-dfe0-4a10-8b83-a4ae1ee87f74",
   "metadata": {},
   "outputs": [
    {
     "name": "stdout",
     "output_type": "stream",
     "text": [
      "2\n"
     ]
    }
   ],
   "source": [
    "print(Q.peek())"
   ]
  },
  {
   "cell_type": "code",
   "execution_count": 26,
   "id": "84b84100-a4d6-4789-8281-430058db87eb",
   "metadata": {},
   "outputs": [],
   "source": [
    "Q.enqueue(25)"
   ]
  },
  {
   "cell_type": "code",
   "execution_count": 29,
   "id": "596b7d3d-d7d5-438e-bcc3-e2db5c95ab18",
   "metadata": {},
   "outputs": [
    {
     "name": "stdout",
     "output_type": "stream",
     "text": [
      "3\n"
     ]
    }
   ],
   "source": [
    "print(len(Q))"
   ]
  },
  {
   "cell_type": "code",
   "execution_count": 28,
   "id": "b510a1db-e998-4534-8345-6104012b9727",
   "metadata": {},
   "outputs": [
    {
     "data": {
      "text/plain": [
       "False"
      ]
     },
     "execution_count": 28,
     "metadata": {},
     "output_type": "execute_result"
    }
   ],
   "source": [
    "Q.is_empty()"
   ]
  }
 ],
 "metadata": {
  "kernelspec": {
   "display_name": "Python 3 (ipykernel)",
   "language": "python",
   "name": "python3"
  },
  "language_info": {
   "codemirror_mode": {
    "name": "ipython",
    "version": 3
   },
   "file_extension": ".py",
   "mimetype": "text/x-python",
   "name": "python",
   "nbconvert_exporter": "python",
   "pygments_lexer": "ipython3",
   "version": "3.12.3"
  }
 },
 "nbformat": 4,
 "nbformat_minor": 5
}
