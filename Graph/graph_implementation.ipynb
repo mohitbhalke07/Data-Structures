{
 "cells": [
  {
   "cell_type": "code",
   "execution_count": 1,
   "id": "6eea5550-eba6-4915-a250-5aebf0f2ae2d",
   "metadata": {},
   "outputs": [],
   "source": [
    "class Graph:\n",
    "    def __init__(self):\n",
    "        self.adj = {}\n",
    "\n",
    "    def add_vertex(self, vertex):\n",
    "        if vertex not in self.adj:\n",
    "            self.adj[vertex] = []\n",
    "\n",
    "    def add_edge(self, u, v):\n",
    "        self.add_vertex(u)\n",
    "        self.add_vertex(v)\n",
    "        self.adj[u].append(v)\n",
    "        self.adj[v].append(u)\n",
    "\n",
    "    def display(self):\n",
    "        for vertex in self.adj:\n",
    "            print(f\"{vertex} -> {' -> '.join(map(str, self.adj[vertex]))}\")\n",
    "\n",
    "    def bfs(self, start):\n",
    "        visited = set()\n",
    "        queue = [start]\n",
    "        visited.add(start)\n",
    "\n",
    "        print(\"BFS:\", end=\" \")\n",
    "        while queue:\n",
    "            node = queue.pop(0)\n",
    "            print(node, end=\" \")\n",
    "            for neighbor in self.adj[node]:\n",
    "                if neighbor not in visited:\n",
    "                    visited.add(neighbor)\n",
    "                    queue.append(neighbor)\n",
    "\n",
    "    def dfs(self, start, visited=None):\n",
    "        if visited is None:\n",
    "            visited = set()\n",
    "            print(\"DFS:\", end=\" \")\n",
    "\n",
    "        print(start, end=\" \")\n",
    "        visited.add(start)\n",
    "        for neighbor in self.adj[start]:\n",
    "            if neighbor not in visited:\n",
    "                self.dfs(neighbor, visited)"
   ]
  },
  {
   "cell_type": "code",
   "execution_count": 2,
   "id": "fb8ba401-75f2-4612-b469-b540dac76135",
   "metadata": {},
   "outputs": [],
   "source": [
    "g = Graph()\n",
    "g.add_edge(0, 1)\n",
    "g.add_edge(0, 2)\n",
    "g.add_edge(1, 3)\n",
    "g.add_edge(2, 3)\n",
    "g.add_edge(3, 4)"
   ]
  },
  {
   "cell_type": "code",
   "execution_count": 3,
   "id": "4f2e6a63-bf8b-4c3d-9b2b-d711c894e800",
   "metadata": {},
   "outputs": [
    {
     "name": "stdout",
     "output_type": "stream",
     "text": [
      "0 -> 1 -> 2\n",
      "1 -> 0 -> 3\n",
      "2 -> 0 -> 3\n",
      "3 -> 1 -> 2 -> 4\n",
      "4 -> 3\n"
     ]
    }
   ],
   "source": [
    "g.display()"
   ]
  },
  {
   "cell_type": "code",
   "execution_count": 6,
   "id": "460a660a-1da3-4c4b-978a-59d5707f0f3d",
   "metadata": {},
   "outputs": [
    {
     "name": "stdout",
     "output_type": "stream",
     "text": [
      "BFS: 0 1 2 3 4 \n"
     ]
    }
   ],
   "source": [
    "g.bfs(0)\n",
    "print()"
   ]
  },
  {
   "cell_type": "code",
   "execution_count": 8,
   "id": "9ec3647b-cc09-43c6-a2ae-e6b8933b1c50",
   "metadata": {},
   "outputs": [
    {
     "name": "stdout",
     "output_type": "stream",
     "text": [
      "DFS: 0 1 3 2 4 "
     ]
    }
   ],
   "source": [
    "g.dfs(0)"
   ]
  },
  {
   "cell_type": "code",
   "execution_count": null,
   "id": "5c70ca84-8ecf-467a-b552-3d84dc58ae4b",
   "metadata": {},
   "outputs": [],
   "source": []
  }
 ],
 "metadata": {
  "kernelspec": {
   "display_name": "Python 3 (ipykernel)",
   "language": "python",
   "name": "python3"
  },
  "language_info": {
   "codemirror_mode": {
    "name": "ipython",
    "version": 3
   },
   "file_extension": ".py",
   "mimetype": "text/x-python",
   "name": "python",
   "nbconvert_exporter": "python",
   "pygments_lexer": "ipython3",
   "version": "3.12.3"
  }
 },
 "nbformat": 4,
 "nbformat_minor": 5
}
