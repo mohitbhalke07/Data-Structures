{
 "cells": [
  {
   "cell_type": "raw",
   "id": "494a807d-211f-4482-8372-b004c16426b5",
   "metadata": {},
   "source": [
    "🔶 Stock Market Analyzer\n",
    "Scenario: You're building a feature that helps users determine the best day to buy and sell stock to maximize profit.\n",
    "\n",
    "Problem:\n",
    "Given an array of stock prices (integers) where prices[i] is the price on day i, return the maximum profit you can achieve. You can only complete one transaction (buy once and sell once).\n",
    "\n",
    "Input: [7,1,5,3,6,4] \n",
    "Output: 5  # Buy on day 1 (price=1), sell on day 4 (price=6)"
   ]
  },
  {
   "cell_type": "code",
   "execution_count": 2,
   "id": "edd5a848-d3ab-4c2d-9dbd-598fe4d84bfc",
   "metadata": {},
   "outputs": [
    {
     "data": {
      "text/plain": [
       "5.5"
      ]
     },
     "execution_count": 2,
     "metadata": {},
     "output_type": "execute_result"
    }
   ],
   "source": [
    "def max_profit(prices):\n",
    "    min_price = float('inf')\n",
    "    max_profit = 0\n",
    "\n",
    "    for price in prices:\n",
    "        min_price = min(min_price, price)\n",
    "        max_profit = max(max_profit, price - min_price)\n",
    "\n",
    "    return max_profit\n",
    "\n",
    "prices = [7,0.5,1,5,3,6,4]\n",
    "max_profit(prices)"
   ]
  },
  {
   "cell_type": "code",
   "execution_count": null,
   "id": "198ca088-69ab-460e-b9d0-0ebcf79b51a5",
   "metadata": {},
   "outputs": [],
   "source": []
  }
 ],
 "metadata": {
  "kernelspec": {
   "display_name": "Python 3 (ipykernel)",
   "language": "python",
   "name": "python3"
  },
  "language_info": {
   "codemirror_mode": {
    "name": "ipython",
    "version": 3
   },
   "file_extension": ".py",
   "mimetype": "text/x-python",
   "name": "python",
   "nbconvert_exporter": "python",
   "pygments_lexer": "ipython3",
   "version": "3.12.3"
  }
 },
 "nbformat": 4,
 "nbformat_minor": 5
}
