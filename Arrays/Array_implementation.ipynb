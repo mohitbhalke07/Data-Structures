{
 "cells": [
  {
   "cell_type": "code",
   "execution_count": 2,
   "id": "e433de79-ca18-45f4-8f8e-a8f072151d29",
   "metadata": {},
   "outputs": [],
   "source": [
    "class Array:\n",
    "    def __init__(self):\n",
    "        self.data = []\n",
    "\n",
    "    def insert(self, value):\n",
    "        self.data.append(value)\n",
    "\n",
    "    def insert_at(self, index, value):\n",
    "        if index < 0 or index > len(self.data):\n",
    "            raise IndexError(\"Index out of bounds\")\n",
    "        self.data.insert(index, value)\n",
    "\n",
    "    def delete(self, value):\n",
    "        if value in self.data:\n",
    "            self.data.remove(value)\n",
    "        else:\n",
    "            raise ValueError(\"Value not found\")\n",
    "\n",
    "    def delete_at(self, index):\n",
    "        if index < 0 or index >= len(self.data):\n",
    "            raise IndexError(\"Index out of bounds\")\n",
    "        return self.data.pop(index)\n",
    "\n",
    "    def search(self, value):\n",
    "        try:\n",
    "            return self.data.index(value)\n",
    "        except ValueError:\n",
    "            return -1\n",
    "\n",
    "    def __getitem__(self, index):\n",
    "        return self.data[index]\n",
    "\n",
    "    def __len__(self):\n",
    "        return len(self.data)\n",
    "\n",
    "    def __str__(self):\n",
    "        return str(self.data)"
   ]
  },
  {
   "cell_type": "code",
   "execution_count": 3,
   "id": "7715a963-d713-4149-8484-5d2bb94dad09",
   "metadata": {},
   "outputs": [],
   "source": [
    "arr = Array()\n",
    "arr.insert(10)\n",
    "arr.insert(20)\n",
    "arr.insert(30)"
   ]
  },
  {
   "cell_type": "code",
   "execution_count": 4,
   "id": "b56146e7-11ef-4124-889d-06fc310be5c1",
   "metadata": {},
   "outputs": [
    {
     "name": "stdout",
     "output_type": "stream",
     "text": [
      "[10, 20, 30]\n"
     ]
    }
   ],
   "source": [
    "print(arr)"
   ]
  },
  {
   "cell_type": "code",
   "execution_count": 5,
   "id": "f45f456f-0f4f-4c72-b5c2-6fa2cb386158",
   "metadata": {},
   "outputs": [
    {
     "name": "stdout",
     "output_type": "stream",
     "text": [
      "[10, 15, 20, 30]\n"
     ]
    }
   ],
   "source": [
    "arr.insert_at(1, 15)\n",
    "print(arr)"
   ]
  },
  {
   "cell_type": "code",
   "execution_count": 6,
   "id": "7241c6ec-111e-4d8f-9f4a-ed15e393fe84",
   "metadata": {},
   "outputs": [
    {
     "name": "stdout",
     "output_type": "stream",
     "text": [
      "[10, 15, 30]\n"
     ]
    }
   ],
   "source": [
    "arr.delete(20)\n",
    "print(arr)"
   ]
  },
  {
   "cell_type": "code",
   "execution_count": 7,
   "id": "d36acc0e-99c9-45aa-a9fc-430b2f3d8696",
   "metadata": {},
   "outputs": [
    {
     "name": "stdout",
     "output_type": "stream",
     "text": [
      "2\n"
     ]
    }
   ],
   "source": [
    "print(arr.search(30))"
   ]
  },
  {
   "cell_type": "code",
   "execution_count": 8,
   "id": "e6406002-cc5a-40d9-b587-024eeec83739",
   "metadata": {},
   "outputs": [
    {
     "name": "stdout",
     "output_type": "stream",
     "text": [
      "15\n"
     ]
    }
   ],
   "source": [
    "print(arr[1])"
   ]
  },
  {
   "cell_type": "code",
   "execution_count": 9,
   "id": "ed361dd8-db40-442b-87b6-4556339a6ea4",
   "metadata": {},
   "outputs": [
    {
     "name": "stdout",
     "output_type": "stream",
     "text": [
      "3\n"
     ]
    }
   ],
   "source": [
    "print(len(arr))"
   ]
  },
  {
   "cell_type": "code",
   "execution_count": null,
   "id": "0490f791-8dcd-48f7-9c57-1810f2ec19d0",
   "metadata": {},
   "outputs": [],
   "source": []
  }
 ],
 "metadata": {
  "kernelspec": {
   "display_name": "Python 3 (ipykernel)",
   "language": "python",
   "name": "python3"
  },
  "language_info": {
   "codemirror_mode": {
    "name": "ipython",
    "version": 3
   },
   "file_extension": ".py",
   "mimetype": "text/x-python",
   "name": "python",
   "nbconvert_exporter": "python",
   "pygments_lexer": "ipython3",
   "version": "3.12.3"
  }
 },
 "nbformat": 4,
 "nbformat_minor": 5
}
