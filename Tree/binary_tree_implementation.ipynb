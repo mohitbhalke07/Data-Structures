{
 "cells": [
  {
   "cell_type": "code",
   "execution_count": 1,
   "id": "e52415d9-6c1c-4c2f-bbe7-08ca80797fe4",
   "metadata": {},
   "outputs": [],
   "source": [
    "# Binary Tree Basic Implementation\n",
    "\n",
    "class TreeNode:\n",
    "    def __init__(self, value):\n",
    "        self.data = value\n",
    "        self.left = None\n",
    "        self.right = None\n",
    "\n",
    "def inorder(root):\n",
    "    if root:\n",
    "        inorder(root.left)\n",
    "        print(root.data, end=\" \")\n",
    "        inorder(root.right)\n",
    "\n",
    "def preorder(root):\n",
    "    if root:\n",
    "        print(root.data, end=\" \")\n",
    "        preorder(root.left)\n",
    "        preorder(root.right)\n",
    "\n",
    "def postorder(root):\n",
    "    if root:\n",
    "        postorder(root.left)\n",
    "        postorder(root.right)\n",
    "        print(root.data, end=\" \")\n",
    "\n",
    "# Sample Tree:\n",
    "#         10\n",
    "#        /  \\\n",
    "#       5   15\n",
    "#      / \\\n",
    "#     2   7"
   ]
  },
  {
   "cell_type": "code",
   "execution_count": 2,
   "id": "78c621cc-45e8-4075-bb25-633bc5a85f89",
   "metadata": {},
   "outputs": [],
   "source": [
    "root = TreeNode(10)\n",
    "root.left = TreeNode(5)\n",
    "root.right = TreeNode(15)\n",
    "root.left.left = TreeNode(2)\n",
    "root.left.right = TreeNode(7)"
   ]
  },
  {
   "cell_type": "code",
   "execution_count": 3,
   "id": "e9f9954f-0a50-40d5-a9fa-5f8673d49ffe",
   "metadata": {},
   "outputs": [
    {
     "name": "stdout",
     "output_type": "stream",
     "text": [
      "Inorder Traversal:\n",
      "2 5 7 10 15 "
     ]
    }
   ],
   "source": [
    "print(\"Inorder Traversal:\")\n",
    "inorder(root)"
   ]
  },
  {
   "cell_type": "code",
   "execution_count": 4,
   "id": "a878de21-d729-47a3-b7ac-0b2d54f2c5dc",
   "metadata": {},
   "outputs": [
    {
     "name": "stdout",
     "output_type": "stream",
     "text": [
      "\n",
      "Preorder Traversal:\n",
      "10 5 2 7 15 "
     ]
    }
   ],
   "source": [
    "print(\"\\nPreorder Traversal:\")\n",
    "preorder(root)"
   ]
  },
  {
   "cell_type": "code",
   "execution_count": null,
   "id": "c7949eba-1950-4de0-9930-732d37c9b26e",
   "metadata": {},
   "outputs": [],
   "source": []
  }
 ],
 "metadata": {
  "kernelspec": {
   "display_name": "Python 3 (ipykernel)",
   "language": "python",
   "name": "python3"
  },
  "language_info": {
   "codemirror_mode": {
    "name": "ipython",
    "version": 3
   },
   "file_extension": ".py",
   "mimetype": "text/x-python",
   "name": "python",
   "nbconvert_exporter": "python",
   "pygments_lexer": "ipython3",
   "version": "3.12.3"
  }
 },
 "nbformat": 4,
 "nbformat_minor": 5
}
